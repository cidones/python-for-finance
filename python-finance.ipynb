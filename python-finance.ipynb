{
 "cells": [
  {
   "cell_type": "code",
   "execution_count": 1,
   "metadata": {},
   "outputs": [
    {
     "name": "stderr",
     "output_type": "stream",
     "text": [
      "C:\\Users\\fernando.rocha\\Anaconda3\\lib\\site-packages\\pandas_datareader\\compat\\__init__.py:7: FutureWarning: pandas.util.testing is deprecated. Use the functions in the public API at pandas.testing instead.\n",
      "  from pandas.util.testing import assert_frame_equal\n"
     ]
    }
   ],
   "source": [
    "import pandas                 as pd\n",
    "import matplotlib.pyplot      as plt\n",
    "import seaborn                as sns\n",
    "import datetime\n",
    "import pandas_datareader      as web\n",
    "from matplotlib               import style\n",
    "%matplotlib inline"
   ]
  },
  {
   "cell_type": "code",
   "execution_count": 3,
   "metadata": {},
   "outputs": [],
   "source": [
    "#define range of data\n",
    "start_date = datetime.datetime(2010, 12, 31)\n",
    "end_date= datetime.datetime(2020, 6, 1)\n",
    "\n",
    "#Data from google and microsoft\n",
    "google = web.DataReader('GOOG', 'yahoo', start_date, end_date)\n",
    "microsoft = web.DataReader('MSFT', 'yahoo', start_date, end_date)"
   ]
  },
  {
   "cell_type": "code",
   "execution_count": 4,
   "metadata": {},
   "outputs": [
    {
     "data": {
      "text/html": [
       "<div>\n",
       "<style scoped>\n",
       "    .dataframe tbody tr th:only-of-type {\n",
       "        vertical-align: middle;\n",
       "    }\n",
       "\n",
       "    .dataframe tbody tr th {\n",
       "        vertical-align: top;\n",
       "    }\n",
       "\n",
       "    .dataframe thead th {\n",
       "        text-align: right;\n",
       "    }\n",
       "</style>\n",
       "<table border=\"1\" class=\"dataframe\">\n",
       "  <thead>\n",
       "    <tr style=\"text-align: right;\">\n",
       "      <th></th>\n",
       "      <th>High</th>\n",
       "      <th>Low</th>\n",
       "      <th>Open</th>\n",
       "      <th>Close</th>\n",
       "      <th>Volume</th>\n",
       "      <th>Adj Close</th>\n",
       "    </tr>\n",
       "    <tr>\n",
       "      <th>Date</th>\n",
       "      <th></th>\n",
       "      <th></th>\n",
       "      <th></th>\n",
       "      <th></th>\n",
       "      <th></th>\n",
       "      <th></th>\n",
       "    </tr>\n",
       "  </thead>\n",
       "  <tbody>\n",
       "    <tr>\n",
       "      <th>2010-12-30</th>\n",
       "      <td>299.542236</td>\n",
       "      <td>297.579590</td>\n",
       "      <td>297.883453</td>\n",
       "      <td>298.311859</td>\n",
       "      <td>1986300.0</td>\n",
       "      <td>298.311859</td>\n",
       "    </tr>\n",
       "    <tr>\n",
       "      <th>2010-12-31</th>\n",
       "      <td>298.092682</td>\n",
       "      <td>294.909607</td>\n",
       "      <td>297.255798</td>\n",
       "      <td>295.875977</td>\n",
       "      <td>3090000.0</td>\n",
       "      <td>295.875977</td>\n",
       "    </tr>\n",
       "  </tbody>\n",
       "</table>\n",
       "</div>"
      ],
      "text/plain": [
       "                  High         Low        Open       Close     Volume  \\\n",
       "Date                                                                    \n",
       "2010-12-30  299.542236  297.579590  297.883453  298.311859  1986300.0   \n",
       "2010-12-31  298.092682  294.909607  297.255798  295.875977  3090000.0   \n",
       "\n",
       "             Adj Close  \n",
       "Date                    \n",
       "2010-12-30  298.311859  \n",
       "2010-12-31  295.875977  "
      ]
     },
     "execution_count": 4,
     "metadata": {},
     "output_type": "execute_result"
    }
   ],
   "source": [
    "google.head(2)"
   ]
  },
  {
   "cell_type": "code",
   "execution_count": 5,
   "metadata": {},
   "outputs": [
    {
     "data": {
      "text/html": [
       "<div>\n",
       "<style scoped>\n",
       "    .dataframe tbody tr th:only-of-type {\n",
       "        vertical-align: middle;\n",
       "    }\n",
       "\n",
       "    .dataframe tbody tr th {\n",
       "        vertical-align: top;\n",
       "    }\n",
       "\n",
       "    .dataframe thead th {\n",
       "        text-align: right;\n",
       "    }\n",
       "</style>\n",
       "<table border=\"1\" class=\"dataframe\">\n",
       "  <thead>\n",
       "    <tr style=\"text-align: right;\">\n",
       "      <th></th>\n",
       "      <th>High</th>\n",
       "      <th>Low</th>\n",
       "      <th>Open</th>\n",
       "      <th>Close</th>\n",
       "      <th>Volume</th>\n",
       "      <th>Adj Close</th>\n",
       "    </tr>\n",
       "    <tr>\n",
       "      <th>Date</th>\n",
       "      <th></th>\n",
       "      <th></th>\n",
       "      <th></th>\n",
       "      <th></th>\n",
       "      <th></th>\n",
       "      <th></th>\n",
       "    </tr>\n",
       "  </thead>\n",
       "  <tbody>\n",
       "    <tr>\n",
       "      <th>2010-12-30</th>\n",
       "      <td>28.00</td>\n",
       "      <td>27.780001</td>\n",
       "      <td>27.920000</td>\n",
       "      <td>27.85</td>\n",
       "      <td>20786100.0</td>\n",
       "      <td>22.254335</td>\n",
       "    </tr>\n",
       "    <tr>\n",
       "      <th>2010-12-31</th>\n",
       "      <td>27.92</td>\n",
       "      <td>27.629999</td>\n",
       "      <td>27.799999</td>\n",
       "      <td>27.91</td>\n",
       "      <td>24752000.0</td>\n",
       "      <td>22.302277</td>\n",
       "    </tr>\n",
       "  </tbody>\n",
       "</table>\n",
       "</div>"
      ],
      "text/plain": [
       "             High        Low       Open  Close      Volume  Adj Close\n",
       "Date                                                                 \n",
       "2010-12-30  28.00  27.780001  27.920000  27.85  20786100.0  22.254335\n",
       "2010-12-31  27.92  27.629999  27.799999  27.91  24752000.0  22.302277"
      ]
     },
     "execution_count": 5,
     "metadata": {},
     "output_type": "execute_result"
    }
   ],
   "source": [
    "microsoft.head(2)"
   ]
  },
  {
   "cell_type": "code",
   "execution_count": 6,
   "metadata": {},
   "outputs": [],
   "source": [
    "goog_close = google.drop(google.columns[0:5], axis=1)\n",
    "msft_close = microsoft.drop(microsoft.columns[0:5], axis=1)"
   ]
  },
  {
   "cell_type": "code",
   "execution_count": 10,
   "metadata": {},
   "outputs": [
    {
     "data": {
      "image/png": "[encoded data removed]",
      "text/plain": [
       "<Figure size 432x288 with 2 Axes>"
      ]
     },
     "metadata": {},
     "output_type": "display_data"
    }
   ],
   "source": [
    "#line plot how our stocks performed overtime\n",
    "\n",
    "#adjusting style\n",
    "style.use('dark_background')\n",
    "\n",
    "#setting the size of the figure\n",
    "plt.subplot(2, 1, 1)\n",
    "sns.lineplot(x= goog_close.index, y = goog_close['Adj Close'], color= 'lemonchiffon')\n",
    "plt.title('Google stock prices: 2010 to 2020')\n",
    "\n",
    "plt.subplot(2, 1, 2)\n",
    "sns.lineplot(x= msft_close.index, y = msft_close['Adj Close'])\n",
    "plt.title('Microsoft sotck prices: 2010 to 2020')\n",
    "\n",
    "#avoid overlapping \n",
    "plt.tight_layout();"
   ]
  },
  {
   "cell_type": "code",
   "execution_count": null,
   "metadata": {},
   "outputs": [],
   "source": []
  }
 ],
 "metadata": {
  "kernelspec": {
   "display_name": "Python 3",
   "language": "python",
   "name": "python3"
  },
  "language_info": {
   "codemirror_mode": {
    "name": "ipython",
    "version": 3
   },
   "file_extension": ".py",
   "mimetype": "text/x-python",
   "name": "python",
   "nbconvert_exporter": "python",
   "pygments_lexer": "ipython3",
   "version": "3.7.6"
  }
 },
 "nbformat": 4,
 "nbformat_minor": 4
}
