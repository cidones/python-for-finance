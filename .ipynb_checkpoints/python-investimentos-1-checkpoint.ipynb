{
 "cells": [
  {
   "cell_type": "markdown",
   "metadata": {},
   "source": [
    "# 0.0. Imports"
   ]
  },
  {
   "cell_type": "code",
   "execution_count": 3,
   "metadata": {},
   "outputs": [],
   "source": [
    "import numpy             as np\n",
    "import pandas            as pd\n",
    "import matplotlib.pyplot as plt\n",
    "import pandas_datareader as web\n",
    "import yfinance          as yf\n",
    "\n",
    "yf.pdr_override()\n",
    "%matplotlib inline"
   ]
  },
  {
   "cell_type": "code",
   "execution_count": 2,
   "metadata": {},
   "outputs": [
    {
     "name": "stdout",
     "output_type": "stream",
     "text": [
      "Collecting yfinance\n",
      "  Downloading yfinance-0.1.54.tar.gz (19 kB)\n",
      "Requirement already satisfied, skipping upgrade: pandas>=0.24 in c:\\users\\fernando.rocha\\anaconda3\\lib\\site-packages (from yfinance) (1.0.1)\n",
      "Requirement already satisfied, skipping upgrade: numpy>=1.15 in c:\\users\\fernando.rocha\\anaconda3\\lib\\site-packages (from yfinance) (1.18.1)\n",
      "Requirement already satisfied, skipping upgrade: requests>=2.20 in c:\\users\\fernando.rocha\\anaconda3\\lib\\site-packages (from yfinance) (2.22.0)\n",
      "Collecting multitasking>=0.0.7\n",
      "  Downloading multitasking-0.0.9.tar.gz (8.1 kB)\n",
      "Requirement already satisfied, skipping upgrade: pytz>=2017.2 in c:\\users\\fernando.rocha\\anaconda3\\lib\\site-packages (from pandas>=0.24->yfinance) (2019.3)\n",
      "Requirement already satisfied, skipping upgrade: python-dateutil>=2.6.1 in c:\\users\\fernando.rocha\\anaconda3\\lib\\site-packages (from pandas>=0.24->yfinance) (2.8.1)\n",
      "Requirement already satisfied, skipping upgrade: idna<2.9,>=2.5 in c:\\users\\fernando.rocha\\anaconda3\\lib\\site-packages (from requests>=2.20->yfinance) (2.8)\n",
      "Requirement already satisfied, skipping upgrade: chardet<3.1.0,>=3.0.2 in c:\\users\\fernando.rocha\\anaconda3\\lib\\site-packages (from requests>=2.20->yfinance) (3.0.4)\n",
      "Requirement already satisfied, skipping upgrade: certifi>=2017.4.17 in c:\\users\\fernando.rocha\\anaconda3\\lib\\site-packages (from requests>=2.20->yfinance) (2019.11.28)\n",
      "Requirement already satisfied, skipping upgrade: urllib3!=1.25.0,!=1.25.1,<1.26,>=1.21.1 in c:\\users\\fernando.rocha\\anaconda3\\lib\\site-packages (from requests>=2.20->yfinance) (1.25.8)\n",
      "Requirement already satisfied, skipping upgrade: six>=1.5 in c:\\users\\fernando.rocha\\anaconda3\\lib\\site-packages (from python-dateutil>=2.6.1->pandas>=0.24->yfinance) (1.14.0)\n",
      "Building wheels for collected packages: yfinance, multitasking\n",
      "  Building wheel for yfinance (setup.py): started\n",
      "  Building wheel for yfinance (setup.py): finished with status 'done'\n",
      "  Created wheel for yfinance: filename=yfinance-0.1.54-py2.py3-none-any.whl size=22415 sha256=5c93e1f91c96c2b5934c4558b0ecbfac4ad286ea4101be032813b8d29ad411cd\n",
      "  Stored in directory: C:\\Users\\FERNAN~1.ROC\\AppData\\Local\\Temp\\pip-ephem-wheel-cache-5cflvx5p\\wheels\\28\\79\\3c\\08a301b673366fe664fe2853e136eb2acc1bb752045c11c6a1\n",
      "  Building wheel for multitasking (setup.py): started\n",
      "  Building wheel for multitasking (setup.py): finished with status 'done'\n",
      "  Created wheel for multitasking: filename=multitasking-0.0.9-py3-none-any.whl size=8374 sha256=1fcc2b5b3b75e4f407fee012dc76f8a50ca0b83f2b21c581ad87b96a723213b3\n",
      "  Stored in directory: C:\\Users\\FERNAN~1.ROC\\AppData\\Local\\Temp\\pip-ephem-wheel-cache-5cflvx5p\\wheels\\ae\\25\\47\\4d68431a7ec1b6c4b5233365934b74c1d4e665bf5f968d363a\n",
      "Successfully built yfinance multitasking\n",
      "Installing collected packages: multitasking, yfinance\n",
      "Successfully installed multitasking-0.0.9 yfinance-0.1.54\n"
     ]
    }
   ],
   "source": [
    "!pip install yfinance --upgrade --no-cache-dir"
   ]
  },
  {
   "cell_type": "markdown",
   "metadata": {},
   "source": [
    "# 1.0. Market Data"
   ]
  },
  {
   "cell_type": "code",
   "execution_count": 4,
   "metadata": {},
   "outputs": [],
   "source": [
    "ibov = web.get_data_yahoo('^BVSP')"
   ]
  },
  {
   "cell_type": "code",
   "execution_count": 7,
   "metadata": {},
   "outputs": [
    {
     "data": {
      "text/html": [
       "<div>\n",
       "<style scoped>\n",
       "    .dataframe tbody tr th:only-of-type {\n",
       "        vertical-align: middle;\n",
       "    }\n",
       "\n",
       "    .dataframe tbody tr th {\n",
       "        vertical-align: top;\n",
       "    }\n",
       "\n",
       "    .dataframe thead th {\n",
       "        text-align: right;\n",
       "    }\n",
       "</style>\n",
       "<table border=\"1\" class=\"dataframe\">\n",
       "  <thead>\n",
       "    <tr style=\"text-align: right;\">\n",
       "      <th></th>\n",
       "      <th>High</th>\n",
       "      <th>Low</th>\n",
       "      <th>Open</th>\n",
       "      <th>Close</th>\n",
       "      <th>Volume</th>\n",
       "      <th>Adj Close</th>\n",
       "    </tr>\n",
       "    <tr>\n",
       "      <th>Date</th>\n",
       "      <th></th>\n",
       "      <th></th>\n",
       "      <th></th>\n",
       "      <th></th>\n",
       "      <th></th>\n",
       "      <th></th>\n",
       "    </tr>\n",
       "  </thead>\n",
       "  <tbody>\n",
       "    <tr>\n",
       "      <th>2020-06-04</th>\n",
       "      <td>94132.000000</td>\n",
       "      <td>92221.0000</td>\n",
       "      <td>92993.000000</td>\n",
       "      <td>93829.000000</td>\n",
       "      <td>11488000.0</td>\n",
       "      <td>93829.000000</td>\n",
       "    </tr>\n",
       "    <tr>\n",
       "      <th>2020-06-05</th>\n",
       "      <td>97356.000000</td>\n",
       "      <td>93839.0000</td>\n",
       "      <td>93839.000000</td>\n",
       "      <td>94637.000000</td>\n",
       "      <td>13320300.0</td>\n",
       "      <td>94637.000000</td>\n",
       "    </tr>\n",
       "    <tr>\n",
       "      <th>2020-06-08</th>\n",
       "      <td>97693.000000</td>\n",
       "      <td>94635.0000</td>\n",
       "      <td>94640.000000</td>\n",
       "      <td>97645.000000</td>\n",
       "      <td>11096500.0</td>\n",
       "      <td>97645.000000</td>\n",
       "    </tr>\n",
       "    <tr>\n",
       "      <th>2020-06-09</th>\n",
       "      <td>97644.000000</td>\n",
       "      <td>95386.0000</td>\n",
       "      <td>97644.000000</td>\n",
       "      <td>96747.000000</td>\n",
       "      <td>11278800.0</td>\n",
       "      <td>96747.000000</td>\n",
       "    </tr>\n",
       "    <tr>\n",
       "      <th>2020-06-10</th>\n",
       "      <td>97645.851562</td>\n",
       "      <td>94664.8125</td>\n",
       "      <td>96747.320312</td>\n",
       "      <td>94685.976562</td>\n",
       "      <td>0.0</td>\n",
       "      <td>94685.976562</td>\n",
       "    </tr>\n",
       "  </tbody>\n",
       "</table>\n",
       "</div>"
      ],
      "text/plain": [
       "                    High         Low          Open         Close      Volume  \\\n",
       "Date                                                                           \n",
       "2020-06-04  94132.000000  92221.0000  92993.000000  93829.000000  11488000.0   \n",
       "2020-06-05  97356.000000  93839.0000  93839.000000  94637.000000  13320300.0   \n",
       "2020-06-08  97693.000000  94635.0000  94640.000000  97645.000000  11096500.0   \n",
       "2020-06-09  97644.000000  95386.0000  97644.000000  96747.000000  11278800.0   \n",
       "2020-06-10  97645.851562  94664.8125  96747.320312  94685.976562         0.0   \n",
       "\n",
       "               Adj Close  \n",
       "Date                      \n",
       "2020-06-04  93829.000000  \n",
       "2020-06-05  94637.000000  \n",
       "2020-06-08  97645.000000  \n",
       "2020-06-09  96747.000000  \n",
       "2020-06-10  94685.976562  "
      ]
     },
     "execution_count": 7,
     "metadata": {},
     "output_type": "execute_result"
    }
   ],
   "source": [
    "ibov.tail()"
   ]
  },
  {
   "cell_type": "code",
   "execution_count": 8,
   "metadata": {},
   "outputs": [
    {
     "data": {
      "image/png": "[encoded data removed]",
      "text/plain": [
       "<Figure size 432x288 with 1 Axes>"
      ]
     },
     "metadata": {
      "needs_background": "light"
     },
     "output_type": "display_data"
    }
   ],
   "source": [
    "ibov['Close'].plot();"
   ]
  },
  {
   "cell_type": "code",
   "execution_count": null,
   "metadata": {},
   "outputs": [],
   "source": []
  }
 ],
 "metadata": {
  "kernelspec": {
   "display_name": "Python 3",
   "language": "python",
   "name": "python3"
  },
  "language_info": {
   "codemirror_mode": {
    "name": "ipython",
    "version": 3
   },
   "file_extension": ".py",
   "mimetype": "text/x-python",
   "name": "python",
   "nbconvert_exporter": "python",
   "pygments_lexer": "ipython3",
   "version": "3.7.6"
  }
 },
 "nbformat": 4,
 "nbformat_minor": 4
}
